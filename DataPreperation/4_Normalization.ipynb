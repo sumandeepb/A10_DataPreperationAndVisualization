{
 "cells": [
  {
   "cell_type": "markdown",
   "metadata": {},
   "source": [
    "# About Feature Scaling\n",
    "Scale down or scale up the data in order to standardise the range of features/ variable\n",
    "\n",
    "\n",
    "## Sections\n",
    "\n",
    "- [Min Max normalization](#Min-Max-normalization)\n",
    "- [Z Score normalization](#Z-Score-normalization)\n",
    "- [Decimal Scaling normalization](#Z-Score-normalization)\n",
    "\n",
    "\n",
    "Let us define a list with random numbers as our independent variable"
   ]
  },
  {
   "cell_type": "code",
   "execution_count": 1,
   "metadata": {},
   "outputs": [],
   "source": [
    "import random\n",
    "random.seed(332)\n",
    "\n",
    "data = []\n",
    "\n",
    "for x in range(100):\n",
    "  data.append(random.randint(1,101))"
   ]
  },
  {
   "cell_type": "markdown",
   "metadata": {},
   "source": [
    "## Min-Max-scaling-normalization\n",
    "Min-Max normalization is a simple technique where the technique can specifically fit the data in a pre-defined boundary.\n",
    "\n",
    "\\begin{equation} X_{norm} = \\frac{X - X_{min}}{X_{max}-X_{min}} \\end{equation}\n",
    "\n",
    "\n",
    "In the cell below we will use the *data* list and use the min-max scaling normalisation to normalise it\n",
    "- *min_max_normal* is the list of scaled output\n",
    "- *X_min* is the minimum value of the data\n",
    "- *x_max* is the maximum value of the data\n",
    "- *D* upper boundry of the predefined range\n",
    "- *C* lower boundry of the predefined range "
   ]
  },
  {
   "cell_type": "code",
   "execution_count": 3,
   "metadata": {},
   "outputs": [
    {
     "name": "stdout",
     "output_type": "stream",
     "text": [
      "[0.31, 0.66, 0.67, 0.97, 0.74, 0.53, 0.89, 0.75, 0.5, 0.22, 0.0, 0.28, 0.91, 0.68, 0.3, 0.0, 0.77, 0.08, 0.23, 0.76, 0.25, 0.64, 0.99, 0.71, 0.16, 0.67, 0.77, 0.48, 0.05, 0.92, 0.6, 0.97, 0.69, 0.26, 0.47, 0.88, 1.0, 0.82, 0.11, 0.63, 0.72, 0.95, 0.18, 0.86, 0.86, 0.47, 0.28, 0.79, 0.69, 0.69, 0.44, 0.35, 0.8, 0.73, 0.11, 0.17, 0.68, 0.98, 0.78, 0.8, 0.88, 0.42, 0.46, 0.77, 0.84, 0.02, 0.59, 0.97, 0.57, 0.89, 0.98, 0.04, 0.86, 0.8, 0.9, 0.15, 0.51, 0.48, 0.41, 0.54, 0.98, 0.6, 0.4, 0.42, 0.73, 0.99, 0.01, 0.19, 0.29, 0.47, 0.52, 0.49, 0.77, 0.26, 0.02, 0.9, 0.49, 0.44, 0.12, 0.14]\n"
     ]
    }
   ],
   "source": [
    "min_max_normal = []\n",
    "X_min = min(data)\n",
    "X_max = max(data)\n",
    "D = 1\n",
    "C = 0\n",
    "\n",
    "for element in data:\n",
    "    X_norm = (float(element - X_min)/(X_max - X_min))*(D - C) + C\n",
    "    min_max_normal.append(X_norm)\n",
    "\n",
    "print (min_max_normal)"
   ]
  },
  {
   "cell_type": "markdown",
   "metadata": {},
   "source": [
    "## Z-Score-normalization\n",
    "We scale the feature so that transformed features are with an average of zero and standard deviation of one.\n",
    "\n",
    "\\begin{equation} z = \\frac{x - \\mu}{\\sigma}\\end{equation} \n",
    "\n",
    "In the cell below we will use the *data* list and use the min-max scaling normalisation to normalise it\n",
    "- *z_score_normal* is the list of scaled output\n",
    "- *mean* is the minimum value of the data\n",
    "- *std* is the maximum value of the data"
   ]
  },
  {
   "cell_type": "code",
   "execution_count": 4,
   "metadata": {},
   "outputs": [],
   "source": [
    "import math \n",
    "\n",
    "def mean(column):\n",
    "    \"\"\"\n",
    "    takes input the list of variables from the data\n",
    "    returns mean of the variables in the list\n",
    "    \"\"\"\n",
    "    sum_ = 0\n",
    "    for element in column:\n",
    "        sum_ = sum_ + element\n",
    "        \n",
    "    return float(sum_)/len(column)\n",
    "\n",
    "def std(column):\n",
    "    \"\"\"\n",
    "    takes input the list of variables from the data\n",
    "    returns standard deviation of the variables in the list\n",
    "    \"\"\"\n",
    "    if len(column) <= 1:\n",
    "        return 0.0\n",
    "\n",
    "    mean_data, sd = mean(column), 0.0\n",
    "\n",
    "    # calculate stan. dev.\n",
    "    for el in column:\n",
    "        sd += (float(el) - mean_data)**2\n",
    "    sd = math.sqrt(sd / float(len(column)-1))\n",
    "\n",
    "    return sd"
   ]
  },
  {
   "cell_type": "code",
   "execution_count": 10,
   "metadata": {},
   "outputs": [
    {
     "name": "stdout",
     "output_type": "stream",
     "text": [
      "[-0.8390076236118431, 0.33748543834386635, 0.3710995258283152, 1.3795221503617805, 0.6063981382194571, -0.0994976989539686, 1.1106094504861896, 0.6400122257039059, -0.20033996140731514, -1.1415344109718826, -1.8810443356297573, -0.9398498860651896, 1.1778376254550873, 0.404713613312764, -0.8726217110962919, -1.8810443356297573, 0.7072404006728036, -1.6121316357541664, -1.1079203234874337, 0.6736263131883548, -1.040692148518536, 0.27025726337496864, 1.4467503253306782, 0.5055558757661105, -1.3432189358785758, 0.3710995258283152, 0.7072404006728036, -0.2675681363762128, -1.712973898207513, 1.2114517129395361, 0.1358009134371733, 1.3795221503617805, 0.43832770079721284, -1.0070780610340873, -0.3011822238606616, 1.0769953630017408, 1.480364412815127, 0.8753108380950478, -1.51128937330082, 0.2366431758905198, 0.5391699632505594, 1.3122939753928828, -1.2759907609096781, 1.0097671880328432, 1.0097671880328432, -0.3011822238606616, -0.9398498860651896, 0.7744685756417012, 0.43832770079721284, 0.43832770079721284, -0.40202448631400817, -0.7045512736740478, 0.8080826631261501, 0.5727840507350083, -1.51128937330082, -1.309604848394127, 0.404713613312764, 1.4131362378462293, 0.7408544881572524, 0.8080826631261501, 1.0769953630017408, -0.4692526612829059, -0.3347963113451105, 0.7072404006728036, 0.9425390130639455, -1.8138161606608596, 0.10218682595272445, 1.3795221503617805, 0.034958650983826764, 1.1106094504861896, 1.4131362378462293, -1.7465879856919617, 1.0097671880328432, 0.8080826631261501, 1.1442235379706385, -1.3768330233630246, -0.16672587392286628, -0.2675681363762128, -0.5028667487673547, -0.06588361146951975, 1.4131362378462293, 0.1358009134371733, -0.5364808362518035, -0.4692526612829059, 0.5727840507350083, 1.4467503253306782, -1.8474302481453084, -1.2423766734252293, -0.9062357985807408, -0.3011822238606616, -0.13311178643841745, -0.23395404889176397, 0.7072404006728036, -1.0070780610340873, -1.8138161606608596, 1.1442235379706385, -0.23395404889176397, -0.40202448631400817, -1.477675285816371, -1.4104471108474734]\n"
     ]
    }
   ],
   "source": [
    "z_normal = []\n",
    "\n",
    "mean_data = mean(data)\n",
    "std_data = std(data)\n",
    "\n",
    "for element in data:\n",
    "    z_norm = float(element - mean_data)/std_data\n",
    "    z_normal.append(z_norm)\n",
    "\n",
    "print (z_normal)"
   ]
  },
  {
   "cell_type": "markdown",
   "metadata": {},
   "source": [
    "## Decimal Scaling Normalisation"
   ]
  },
  {
   "cell_type": "markdown",
   "metadata": {},
   "source": [
    "We normalize by moving the decimal point of values of features. The number of decimal points moved depends on the maximum absolute value in the features, it provides the range between -1 and 1\n",
    "\n",
    "- Take the maximum number of digits. For eg. 3031, then maximum digits is 4\n",
    "- Calculate power of 10. 10^4 = 10000.\n",
    "- Divide each number by 10000."
   ]
  },
  {
   "cell_type": "code",
   "execution_count": 11,
   "metadata": {},
   "outputs": [
    {
     "name": "stdout",
     "output_type": "stream",
     "text": [
      "[0.032, 0.067, 0.068, 0.098, 0.075, 0.054, 0.09, 0.076, 0.051, 0.023, 0.001, 0.029, 0.092, 0.069, 0.031, 0.001, 0.078, 0.009, 0.024, 0.077, 0.026, 0.065, 0.1, 0.072, 0.017, 0.068, 0.078, 0.049, 0.006, 0.093, 0.061, 0.098, 0.07, 0.027, 0.048, 0.089, 0.101, 0.083, 0.012, 0.064, 0.073, 0.096, 0.019, 0.087, 0.087, 0.048, 0.029, 0.08, 0.07, 0.07, 0.045, 0.036, 0.081, 0.074, 0.012, 0.018, 0.069, 0.099, 0.079, 0.081, 0.089, 0.043, 0.047, 0.078, 0.085, 0.003, 0.06, 0.098, 0.058, 0.09, 0.099, 0.005, 0.087, 0.081, 0.091, 0.016, 0.052, 0.049, 0.042, 0.055, 0.099, 0.061, 0.041, 0.043, 0.074, 0.1, 0.002, 0.02, 0.03, 0.048, 0.053, 0.05, 0.078, 0.027, 0.003, 0.091, 0.05, 0.045, 0.013, 0.015]\n"
     ]
    }
   ],
   "source": [
    "ds_normal =[]\n",
    "max_digits = 10**len(str(max(data)))\n",
    "\n",
    "for element in data:\n",
    "    ds_norm = float(element)/max_digits\n",
    "    ds_normal.append(ds_norm)\n",
    "\n",
    "print (ds_normal)"
   ]
  },
  {
   "cell_type": "code",
   "execution_count": null,
   "metadata": {},
   "outputs": [],
   "source": []
  }
 ],
 "metadata": {
  "kernelspec": {
   "display_name": "Python 3",
   "language": "python",
   "name": "python3"
  },
  "language_info": {
   "codemirror_mode": {
    "name": "ipython",
    "version": 3
   },
   "file_extension": ".py",
   "mimetype": "text/x-python",
   "name": "python",
   "nbconvert_exporter": "python",
   "pygments_lexer": "ipython3",
   "version": "3.7.3"
  }
 },
 "nbformat": 4,
 "nbformat_minor": 2
}
