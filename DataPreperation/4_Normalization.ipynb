{
 "cells": [
  {
   "cell_type": "markdown",
   "metadata": {},
   "source": [
    "# About Feature Scaling\n",
    "Scale down or scale up the data in order to standardise the range of features/ variable\n",
    "\n",
    "\n",
    "## Sections\n",
    "\n",
    "- [Min Max normalization](#Min-Max-normalization)\n",
    "- [Z Score normalization](#Z-Score-normalization)\n",
    "- [Decimal Scaling normalization](#Z-Score-normalization)\n",
    "\n",
    "\n",
    "Let us define a list with random numbers as our independent variable"
   ]
  },
  {
   "cell_type": "code",
   "execution_count": null,
   "metadata": {},
   "outputs": [],
   "source": [
    "import random\n",
    "random.seed(332)\n",
    "\n",
    "data = []\n",
    "\n",
    "for x in range(100):\n",
    "  data.append(random.randint(1,101))\n",
    "\n",
    "print (data)"
   ]
  },
  {
   "cell_type": "markdown",
   "metadata": {},
   "source": [
    "## Min-Max-scaling-normalization\n",
    "Min-Max normalization is a simple technique where the technique can specifically fit the data in a pre-defined boundary.\n",
    "\n",
    "\\begin{equation} X_{norm} = \\frac{X - X_{min}}{X_{max}-X_{min}} \\end{equation}\n",
    "\n",
    "\n",
    "In the cell below we will use the *data* list and use the min-max scaling normalisation to normalise it\n",
    "- *min_max_normal* is the list of scaled output\n",
    "- *X_min* is the minimum value of the data\n",
    "- *x_max* is the maximum value of the data\n",
    "- *D* upper boundry of the predefined range\n",
    "- *C* lower boundry of the predefined range "
   ]
  },
  {
   "cell_type": "code",
   "execution_count": null,
   "metadata": {},
   "outputs": [],
   "source": [
    "min_max_normal = []\n",
    "X_min = min(data)\n",
    "X_max = max(data)\n",
    "D = 1\n",
    "C = 0\n",
    "\n",
    "for element in data:\n",
    "    X_norm = (float(element - X_min)/(X_max - X_min))*(D - C) + C\n",
    "    min_max_normal.append(X_norm)\n",
    "\n",
    "print (min_max_normal)"
   ]
  },
  {
   "cell_type": "markdown",
   "metadata": {},
   "source": [
    "## Z-Score-normalization\n",
    "We scale the feature so that transformed features are with an mean of zero and standard deviation of one.\n",
    "\n",
    "\\begin{equation} z = \\frac{x - \\mu}{\\sigma}\\end{equation} \n",
    "\n",
    "In the cell below we will use the *data* list and use the min-max scaling normalisation to normalise it\n",
    "- *z_score_normal* is the list of scaled output\n",
    "- *mean* is the minimum value of the data\n",
    "- *std* is the maximum value of the data"
   ]
  },
  {
   "cell_type": "code",
   "execution_count": null,
   "metadata": {},
   "outputs": [],
   "source": [
    "import math \n",
    "\n",
    "def mean(column):\n",
    "    \"\"\"\n",
    "    takes input the list of variables from the data\n",
    "    returns mean of the variables in the list\n",
    "    \"\"\"\n",
    "    sum_ = 0\n",
    "    for element in column:\n",
    "        sum_ = sum_ + element\n",
    "        \n",
    "    return float(sum_)/len(column)\n",
    "\n",
    "def std(column):\n",
    "    \"\"\"\n",
    "    takes input the list of variables from the data\n",
    "    returns standard deviation of the variables in the list\n",
    "    \"\"\"\n",
    "    if len(column) <= 1:\n",
    "        return 0.0\n",
    "\n",
    "    mean_data, sd = mean(column), 0.0\n",
    "\n",
    "    # calculate stan. dev.\n",
    "    for el in column:\n",
    "        sd += (float(el) - mean_data)**2\n",
    "    sd = math.sqrt(sd / float(len(column)-1))\n",
    "\n",
    "    return sd"
   ]
  },
  {
   "cell_type": "code",
   "execution_count": null,
   "metadata": {},
   "outputs": [],
   "source": [
    "z_normal = []\n",
    "\n",
    "mean_data = mean(data)\n",
    "std_data = std(data)\n",
    "\n",
    "for element in data:\n",
    "    z_norm = float(element - mean_data)/std_data\n",
    "    z_normal.append(z_norm)\n",
    "\n",
    "print (z_normal)"
   ]
  },
  {
   "cell_type": "markdown",
   "metadata": {},
   "source": [
    "## Decimal Scaling Normalisation"
   ]
  },
  {
   "cell_type": "markdown",
   "metadata": {},
   "source": [
    "We normalize by moving the decimal point of values of features. The number of decimal points moved depends on the maximum absolute value in the features, it provides the range between -1 and 1\n",
    "\n",
    "- Take the maximum number of digits. For eg. 3031, then maximum digits is 4\n",
    "- Calculate power of 10. 10^4 = 10000.\n",
    "- Divide each number by 10000."
   ]
  },
  {
   "cell_type": "code",
   "execution_count": null,
   "metadata": {},
   "outputs": [],
   "source": [
    "ds_normal =[]\n",
    "max_digits = 10**len(str(max(data)))\n",
    "\n",
    "for element in data:\n",
    "    ds_norm = float(element)/max_digits\n",
    "    ds_normal.append(ds_norm)\n",
    "\n",
    "print (ds_normal)"
   ]
  },
  {
   "cell_type": "code",
   "execution_count": null,
   "metadata": {},
   "outputs": [],
   "source": []
  }
 ],
 "metadata": {
  "kernelspec": {
   "display_name": "Python 3",
   "language": "python",
   "name": "python3"
  },
  "language_info": {
   "codemirror_mode": {
    "name": "ipython",
    "version": 3
   },
   "file_extension": ".py",
   "mimetype": "text/x-python",
   "name": "python",
   "nbconvert_exporter": "python",
   "pygments_lexer": "ipython3",
   "version": "3.7.3"
  }
 },
 "nbformat": 4,
 "nbformat_minor": 2
}
