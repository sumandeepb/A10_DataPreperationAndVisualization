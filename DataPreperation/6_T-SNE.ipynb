{
 "cells": [
  {
   "cell_type": "code",
   "execution_count": null,
   "metadata": {},
   "outputs": [],
   "source": [
    "import pandas as pd\n",
    "from sklearn.manifold import TSNE\n",
    "from sklearn.datasets import load_iris\n",
    "import seaborn as sns\n",
    "import matplotlib.pyplot as plt\n",
    "from matplotlib.colors import ListedColormap"
   ]
  },
  {
   "cell_type": "code",
   "execution_count": null,
   "metadata": {},
   "outputs": [],
   "source": [
    "sns.set()\n",
    "sns.set(rc={\"figure.figsize\": (10, 8)})\n",
    "PALETTE = sns.color_palette('deep', n_colors=3)\n",
    "CMAP = ListedColormap(PALETTE.as_hex())"
   ]
  },
  {
   "cell_type": "code",
   "execution_count": null,
   "metadata": {},
   "outputs": [],
   "source": [
    "dataset = load_iris()\n",
    "features = ['sepal_length', 'sepal_width', 'petal_length', 'petal_width']\n",
    "target = 'species'\n",
    "\n",
    "iris = pd.DataFrame(\n",
    "    dataset.data,\n",
    "    columns=features)\n",
    "iris[target] = dataset.target\n",
    "\n",
    "iris.head()"
   ]
  },
  {
   "cell_type": "code",
   "execution_count": null,
   "metadata": {},
   "outputs": [],
   "source": [
    "RANDOM_STATE = 42\n",
    "tsne = TSNE(n_components=2, n_iter=1000, random_state=RANDOM_STATE)\n",
    "points = tsne.fit_transform(iris[features])"
   ]
  },
  {
   "cell_type": "code",
   "execution_count": null,
   "metadata": {},
   "outputs": [],
   "source": [
    "def plot_iris_2d(x, y, title, xlabel=\"1st eigenvector\", ylabel=\"2nd eigenvector\"):\n",
    "    sns.set_style(\"darkgrid\")\n",
    "    \n",
    "    plt.scatter(x, y,\n",
    "        c=iris['species'],\n",
    "        cmap=CMAP,\n",
    "        s=70)\n",
    "    \n",
    "    plt.title(title, fontsize=20, y=1.03)\n",
    "\n",
    "    plt.xlabel(xlabel, fontsize=16)\n",
    "    plt.ylabel(ylabel, fontsize=16)"
   ]
  },
  {
   "cell_type": "code",
   "execution_count": null,
   "metadata": {},
   "outputs": [],
   "source": [
    "plot_iris_2d(\n",
    "    x = points[:, 0],\n",
    "    y = points[:, 1],\n",
    "    title = 'Iris dataset visualized with t-SNE')"
   ]
  },
  {
   "cell_type": "code",
   "execution_count": null,
   "metadata": {},
   "outputs": [],
   "source": []
  }
 ],
 "metadata": {
  "kernelspec": {
   "display_name": "Python 3",
   "language": "python",
   "name": "python3"
  },
  "language_info": {
   "codemirror_mode": {
    "name": "ipython",
    "version": 3
   },
   "file_extension": ".py",
   "mimetype": "text/x-python",
   "name": "python",
   "nbconvert_exporter": "python",
   "pygments_lexer": "ipython3",
   "version": "3.6.7"
  }
 },
 "nbformat": 4,
 "nbformat_minor": 2
}
