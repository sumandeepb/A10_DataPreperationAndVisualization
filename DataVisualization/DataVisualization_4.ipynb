{
 "cells": [
  {
   "cell_type": "markdown",
   "metadata": {},
   "source": [
    "# Data Visualization Tutorial 4"
   ]
  },
  {
   "cell_type": "markdown",
   "metadata": {},
   "source": [
    "## Load and Setup the Data"
   ]
  },
  {
   "cell_type": "code",
   "execution_count": null,
   "metadata": {},
   "outputs": [],
   "source": [
    "# import required library functions\n",
    "import numpy as np\n",
    "import matplotlib as mpl\n",
    "import matplotlib.pyplot as plt\n",
    "import pandas as pd"
   ]
  },
  {
   "cell_type": "code",
   "execution_count": null,
   "metadata": {},
   "outputs": [],
   "source": [
    "# load data, skip the top 20 and bottom 2 rows as they do not contain relevant data\n",
    "df_canada = pd.read_excel('data/canada.xlsx',\n",
    "                          sheet_name = 'Canada by Citizenship',\n",
    "                          skiprows = range(20),\n",
    "                          skipfooter = 2)\n",
    "\n",
    "# conversion index and columns to lists\n",
    "df_canada.columns.tolist()\n",
    "df_canada.index.tolist()\n",
    "\n",
    "# remove unnecessary columns\n",
    "# in pandas axis=0 re|presents rows (default) and axis=1 represents columns.\n",
    "df_canada.drop(['AREA','REG','DEV','Type','Coverage'], axis=1, inplace=True)\n",
    "\n",
    "# rename some columns to make better sense\n",
    "df_canada.rename(columns={'OdName':'Country', 'AreaName':'Continent', 'RegName':'Region'}, inplace=True)\n",
    "\n",
    "# convert all column names to strings\n",
    "df_canada.columns = list(map(str, df_canada.columns))\n",
    "\n",
    "# full range of the time series\n",
    "years = list(map(str, range(1980, 2014)))\n",
    "\n",
    "# add Total column\n",
    "df_canada['Total'] = df_canada.sum(axis=1)\n",
    "\n",
    "# index data by country\n",
    "df_canada.set_index('Country', inplace=True)"
   ]
  },
  {
   "cell_type": "markdown",
   "metadata": {},
   "source": [
    "## Visualize Frequency Distribution\n",
    "\n",
    "### Visualize immigration into Canada from Scandinavia"
   ]
  },
  {
   "cell_type": "code",
   "execution_count": null,
   "metadata": {},
   "outputs": [],
   "source": [
    "# let's quickly view the dataset \n",
    "df_scandinavia = df_canada.loc[['Denmark', 'Norway', 'Sweden'], years]\n",
    "\n",
    "df_scandinavia.head()"
   ]
  },
  {
   "cell_type": "code",
   "execution_count": null,
   "metadata": {},
   "outputs": [],
   "source": [
    "# let's get the x-tick values\n",
    "count, bin_edges = np.histogram(df_scandinavia.transpose(), 15)\n",
    "\n",
    "# generate histogram\n",
    "df_scandinavia.transpose().plot(kind='hist',\n",
    "                    figsize=(10, 6),\n",
    "                    bins=15,\n",
    "                    alpha=0.6,\n",
    "                    xticks=bin_edges,\n",
    "                   )\n",
    "\n",
    "plt.title('Histogram of Immigration from Denmark, Norway, and Sweden from 1980 - 2013')\n",
    "plt.ylabel('Number of Years')\n",
    "plt.xlabel('Number of Immigrants')\n",
    "\n",
    "plt.show()"
   ]
  },
  {
   "cell_type": "markdown",
   "metadata": {},
   "source": [
    "## Visualize Data Distribution\n",
    "\n",
    "### Visualize Box Plot of Immigration to Canada from India"
   ]
  },
  {
   "cell_type": "code",
   "execution_count": null,
   "metadata": {},
   "outputs": [],
   "source": [
    "# to get a dataframe, place extra square brackets around 'India'.\n",
    "df_india = df_canada.loc[['India'], years].transpose()\n",
    "df_india.head()"
   ]
  },
  {
   "cell_type": "code",
   "execution_count": null,
   "metadata": {},
   "outputs": [],
   "source": [
    "df_india.describe()"
   ]
  },
  {
   "cell_type": "code",
   "execution_count": null,
   "metadata": {},
   "outputs": [],
   "source": [
    "# plot the distribution pattern\n",
    "df_india.plot(kind='box', figsize=(8, 6))\n",
    "\n",
    "plt.title('Box plot of Indian Immigrants from 1980 - 2013')\n",
    "plt.ylabel('Number of Immigrants')\n",
    "\n",
    "plt.show()"
   ]
  },
  {
   "cell_type": "markdown",
   "metadata": {},
   "source": [
    "## Visualize Word Coulds"
   ]
  },
  {
   "cell_type": "code",
   "execution_count": null,
   "metadata": {},
   "outputs": [],
   "source": [
    "# special library for Word Clouds\n",
    "from wordcloud import WordCloud, STOPWORDS"
   ]
  },
  {
   "cell_type": "markdown",
   "metadata": {},
   "source": [
    "### Prepare word histogram data"
   ]
  },
  {
   "cell_type": "code",
   "execution_count": null,
   "metadata": {},
   "outputs": [],
   "source": [
    "# load list of common words to remove from consideration\n",
    "stopwords = set(STOPWORDS)\n",
    "\n",
    "# open the file and read it into a variable\n",
    "novel = open('data/alice.txt', 'r').read()\n",
    "\n",
    "# instantiate a word cloud object\n",
    "novel_wc = WordCloud(\n",
    "    background_color='white',\n",
    "    max_words=2000,\n",
    "    stopwords=stopwords\n",
    ")\n",
    "\n",
    "# generate the word cloud data\n",
    "novel_wc.generate(novel)"
   ]
  },
  {
   "cell_type": "markdown",
   "metadata": {},
   "source": [
    "### Visualize the occurence frequency of words in novel"
   ]
  },
  {
   "cell_type": "code",
   "execution_count": null,
   "metadata": {},
   "outputs": [],
   "source": [
    "# display the word cloud\n",
    "plt.imshow(novel_wc, interpolation='bilinear')\n",
    "plt.axis('off')\n",
    "plt.show()"
   ]
  },
  {
   "cell_type": "markdown",
   "metadata": {},
   "source": [
    "### Visualize the prominent countries contributing to immigration to Canada"
   ]
  },
  {
   "cell_type": "code",
   "execution_count": null,
   "metadata": {},
   "outputs": [],
   "source": [
    "# create country wise distribution\n",
    "df_country = df_canada['Total']\n",
    "\n",
    "df_country.head()"
   ]
  },
  {
   "cell_type": "code",
   "execution_count": null,
   "metadata": {},
   "outputs": [],
   "source": [
    "# generate word cloud from histogram\n",
    "wc_country = WordCloud(background_color='white').generate_from_frequencies(df_country)"
   ]
  },
  {
   "cell_type": "code",
   "execution_count": null,
   "metadata": {},
   "outputs": [],
   "source": [
    "# display the word cloud\n",
    "plt.imshow(wc_country, interpolation='bilinear')\n",
    "plt.axis('off')\n",
    "plt.show()"
   ]
  },
  {
   "cell_type": "code",
   "execution_count": null,
   "metadata": {},
   "outputs": [],
   "source": []
  }
 ],
 "metadata": {
  "kernelspec": {
   "display_name": "Python 3",
   "language": "python",
   "name": "python3"
  },
  "language_info": {
   "codemirror_mode": {
    "name": "ipython",
    "version": 3
   },
   "file_extension": ".py",
   "mimetype": "text/x-python",
   "name": "python",
   "nbconvert_exporter": "python",
   "pygments_lexer": "ipython3",
   "version": "3.6.7"
  }
 },
 "nbformat": 4,
 "nbformat_minor": 2
}
