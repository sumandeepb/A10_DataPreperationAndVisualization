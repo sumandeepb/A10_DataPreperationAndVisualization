{
 "cells": [
  {
   "cell_type": "code",
   "execution_count": null,
   "metadata": {},
   "outputs": [],
   "source": [
    "import scrapy\n",
    "from scrapy.spiders import CrawlSpider, Rule\n",
    "from scrapy.linkextractors import LinkExtractor\n",
    "from scrapy.selector import Selector\n",
    "import re\n",
    "import json\n",
    "from scrapy.http import Request, FormRequest\n",
    "from collections import namedtuple\n",
    "import re\n",
    "\n",
    "class CricInfoScrapeSpider(scrapy.Spider):\n",
    "    name='cricinfo-spider'\n",
    "    start_urls=['http://www.espncricinfo.com/ci/content/player/country.html?country=6;alpha=A']\n",
    "    first_class_batting_stats=namedtuple(\"first_batting_stats\", 'matches, inns, not_outs, runs, highest, average, balls_faced, strike_rate, hundreds, fifties, boundaries, sixes, catches_taken, stumpings_made')\n",
    "    \n",
    "    def parse(self, response):\n",
    "        sel = Selector(text=response.body_as_unicode(), type=\"html\")\n",
    "        players_urlpath=sel.xpath(\n",
    "            '//div[@id=\"ciPlayerbyCharAtoZ\"]//ul//li//a/@href'\n",
    "        )\n",
    "        for url in players_urlpath.extract()[1:-1]:\n",
    "            url = \"http://www.espncricinfo.com\" + url\n",
    "            request = scrapy.Request(url, self.parse_player_names)\n",
    "            yield request\n",
    "\n",
    "    def parse_player_names(self,response):\n",
    "        sel= Selector(text=response.body_as_unicode(), type=\"html\")\n",
    "        urlPath=sel.xpath(\n",
    "            '//td[@class=\"ciPlayernames\"]//a/@href'\n",
    "        )\n",
    "\n",
    "        for url in urlPath.extract()[1:20]:\n",
    "            url = \"http://www.espncricinfo.com\" + url\n",
    "            request = scrapy.Request(url, self.parse_player_details)\n",
    "            request.meta['url']=url\n",
    "            yield request\n",
    "\n",
    "    def parse_player_details(self, response):\n",
    "        sel = Selector(text=response.body_as_unicode(), type=\"html\")\n",
    "        name = sel.xpath(\n",
    "            '//div[@class=\"ciPlayernametxt\"]/div/h1/text()'\n",
    "        )\n",
    "\n",
    "        dob_place=sel.xpath(\n",
    "            '//p[@class=\"ciPlayerinformationtxt\"]/b[contains(text(), \"Born\")]/following-sibling::span/text()'\n",
    "        )\n",
    "\n",
    "        teams=sel.xpath(\n",
    "            '//p[@class=\"ciPlayerinformationtxt\"]/b[contains(text(), \"Major teams\")]/following-sibling::span/text()'\n",
    "        )\n",
    "        self.first_class_batting_stats.matches=sel.xpath(\n",
    "            '//*[@id=\"ciHomeContentlhs\"]/div[4]/table[1]/tbody/tr[1]/td[2]/text()'\n",
    "        )\n",
    "\n",
    "        self.first_class_batting_stats.inns = sel.xpath(\n",
    "            '//*[@id=\"ciHomeContentlhs\"]/div[4]/table[1]/tbody/tr[1]/td[3]/text()'\n",
    "        )\n",
    "\n",
    "        self.first_class_batting_stats.not_outs = sel.xpath(\n",
    "            '//*[@id=\"ciHomeContentlhs\"]/div[4]/table[1]/tbody/tr[1]/td[4]/text()'\n",
    "        )\n",
    "\n",
    "        self.first_class_batting_stats.runs = sel.xpath(\n",
    "            '//*[@id=\"ciHomeContentlhs\"]/div[4]/table[1]/tbody/tr[1]/td[5]/text()'\n",
    "        )\n",
    "\n",
    "        self.first_class_batting_stats.highest = sel.xpath(\n",
    "            '//*[@id=\"ciHomeContentlhs\"]/div[4]/table[1]/tbody/tr[1]/td[6]/text()'\n",
    "        )\n",
    "\n",
    "        self.first_class_batting_stats.average = sel.xpath(\n",
    "            '//*[@id=\"ciHomeContentlhs\"]/div[4]/table[1]/tbody/tr[1]/td[7]/text()'\n",
    "        )\n",
    "\n",
    "        self.first_class_batting_stats.balls_faced = sel.xpath(\n",
    "            '//*[@id=\"ciHomeContentlhs\"]/div[4]/table[1]/tbody/tr[1]/td[8]/text()'\n",
    "        )\n",
    "\n",
    "        self.first_class_batting_stats.strike_rate = sel.xpath(\n",
    "            '//*[@id=\"ciHomeContentlhs\"]/div[4]/table[1]/tbody/tr[1]/td[9]/text()'\n",
    "        )\n",
    "\n",
    "        self.first_class_batting_stats.hundreds = sel.xpath(\n",
    "            '//*[@id=\"ciHomeContentlhs\"]/div[4]/table[1]/tbody/tr[1]/td[10]/text()'\n",
    "        )\n",
    "\n",
    "        self.first_class_batting_stats.fifties = sel.xpath(\n",
    "            '//*[@id=\"ciHomeContentlhs\"]/div[4]/table[1]/tbody/tr[1]/td[11]/text()'\n",
    "        )\n",
    "\n",
    "        self.first_class_batting_stats.boundaries = sel.xpath(\n",
    "            '//*[@id=\"ciHomeContentlhs\"]/div[4]/table[1]/tbody/tr[1]/td[12]/text()'\n",
    "        )\n",
    "\n",
    "        self.first_class_batting_stats.sixes = sel.xpath(\n",
    "            '//*[@id=\"ciHomeContentlhs\"]/div[4]/table[1]/tbody/tr[1]/td[13]/text()'\n",
    "        )\n",
    "\n",
    "        self.first_class_batting_stats.catches_taken = sel.xpath(\n",
    "            '//*[@id=\"ciHomeContentlhs\"]/div[4]/table[1]/tbody/tr[1]/td[14]/text()'\n",
    "        )\n",
    "\n",
    "        self.first_class_batting_stats.stumpings_made = sel.xpath(\n",
    "            '//*[@id=\"ciHomeContentlhs\"]/div[4]/table[1]/tbody/tr[1]/td[15]/text()'\n",
    "        )\n",
    "\n",
    "        json_stats={\n",
    "            \"matches\": re.sub('\\s+','',self.first_class_batting_stats.matches.extract()[0]),\n",
    "            \"inns\":re.sub('\\s+','',self.first_class_batting_stats.inns.extract()[0]),\n",
    "            \"not_outs\":re.sub('\\s+','',self.first_class_batting_stats.not_outs.extract()[0]),\n",
    "            \"runs\":re.sub('\\s+','',self.first_class_batting_stats.runs.extract()[0]),\n",
    "            \"highest\":re.sub('\\s+','',self.first_class_batting_stats.highest.extract()[0]),\n",
    "            \"average\":re.sub('\\s+','',self.first_class_batting_stats.average.extract()[0]),\n",
    "            \"balls_faced\":re.sub('\\s+','',self.first_class_batting_stats.balls_faced.extract()[0]),\n",
    "            \"strike_rate\":re.sub('\\s+','',self.first_class_batting_stats.strike_rate.extract()[0]),\n",
    "            \"hundreds\":re.sub('\\s+','',self.first_class_batting_stats.hundreds.extract()[0]),\n",
    "            \"fifties\":re.sub('\\s+','',self.first_class_batting_stats.fifties.extract()[0]),\n",
    "            \"boundaries\":re.sub('\\s+','',self.first_class_batting_stats.boundaries.extract()[0]),\n",
    "            \"sixes\":re.sub('\\s+','',self.first_class_batting_stats.sixes.extract()[0]),\n",
    "            \"catches_taken\":re.sub('\\s+','',self.first_class_batting_stats.catches_taken.extract()[0]),\n",
    "            \"stumps\":re.sub('\\s+','',self.first_class_batting_stats.stumpings_made.extract()[0])\n",
    "        }\n",
    "\n",
    "        yield {\n",
    "            \"name\": name.extract()[0].replace('\\n',''),\n",
    "            \"url\": response.meta['url'].replace('\\n',''),\n",
    "            \"born\": dob_place.extract()[0].replace('\\n',''),\n",
    "            \"teams\": teams.extract()[0].replace('\\n',''),\n",
    "            \"first_class\": json_stats\n",
    "\n",
    "        }"
   ]
  },
  {
   "cell_type": "markdown",
   "metadata": {},
   "source": [
    "# run it using the following command. Save the above code in cricinfo.py\n",
    "scrapy runspider -o players.csv cricinfo.py -t csv\n"
   ]
  },
  {
   "cell_type": "code",
   "execution_count": null,
   "metadata": {},
   "outputs": [],
   "source": [
    "import pandas as pd\n",
    "import json"
   ]
  },
  {
   "cell_type": "code",
   "execution_count": null,
   "metadata": {},
   "outputs": [],
   "source": [
    "players_scraped = pd.read_csv(\"players.csv\")"
   ]
  },
  {
   "cell_type": "code",
   "execution_count": null,
   "metadata": {},
   "outputs": [],
   "source": [
    "players_scraped['first_class'] = players_scraped['first_class'].apply(lambda x: json.loads(x.replace(\"'\", \"\\\"\")))"
   ]
  },
  {
   "cell_type": "code",
   "execution_count": null,
   "metadata": {},
   "outputs": [],
   "source": [
    "df1 = pd.DataFrame(players_scraped['first_class'].values.tolist())\n",
    "df1.columns = 'first_class.' + df1.columns"
   ]
  },
  {
   "cell_type": "code",
   "execution_count": null,
   "metadata": {},
   "outputs": [],
   "source": [
    "players_scraped"
   ]
  },
  {
   "cell_type": "code",
   "execution_count": null,
   "metadata": {},
   "outputs": [],
   "source": [
    "final_df = pd.concat([players_scraped.drop(columns=\"first_class\"), df1], axis=1)"
   ]
  },
  {
   "cell_type": "code",
   "execution_count": null,
   "metadata": {},
   "outputs": [],
   "source": [
    "final_df"
   ]
  },
  {
   "cell_type": "code",
   "execution_count": null,
   "metadata": {},
   "outputs": [],
   "source": []
  }
 ],
 "metadata": {
  "kernelspec": {
   "display_name": "Python 3",
   "language": "python",
   "name": "python3"
  },
  "language_info": {
   "codemirror_mode": {
    "name": "ipython",
    "version": 3
   },
   "file_extension": ".py",
   "mimetype": "text/x-python",
   "name": "python",
   "nbconvert_exporter": "python",
   "pygments_lexer": "ipython3",
   "version": "3.7.3"
  }
 },
 "nbformat": 4,
 "nbformat_minor": 2
}
